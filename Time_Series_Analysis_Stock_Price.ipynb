{
  "nbformat": 4,
  "nbformat_minor": 0,
  "metadata": {
    "colab": {
      "name": "Time Series Analysis-Stock Price.ipynb",
      "provenance": [],
      "authorship_tag": "ABX9TyOuIF3BXp5A5Pw5kfccSL89",
      "include_colab_link": true
    },
    "kernelspec": {
      "name": "python3",
      "display_name": "Python 3"
    }
  },
  "cells": [
    {
      "cell_type": "markdown",
      "metadata": {
        "id": "view-in-github",
        "colab_type": "text"
      },
      "source": [
        "<a href=\"https://colab.research.google.com/github/DeepankarAcharyya/Time_Series_Data/blob/master/Time_Series_Analysis_Stock_Price.ipynb\" target=\"_parent\"><img src=\"https://colab.research.google.com/assets/colab-badge.svg\" alt=\"Open In Colab\"/></a>"
      ]
    },
    {
      "cell_type": "markdown",
      "metadata": {
        "id": "qwrdat6v4lfw",
        "colab_type": "text"
      },
      "source": [
        "Importing Data:"
      ]
    },
    {
      "cell_type": "code",
      "metadata": {
        "id": "NRwJLSp7RnnZ",
        "colab_type": "code",
        "colab": {
          "base_uri": "https://localhost:8080/",
          "height": 71
        },
        "outputId": "3c1c32db-fcb6-48e9-e5f1-97c523885da4"
      },
      "source": [
        "import numpy as np\n",
        "import pandas as pd\n",
        "import matplotlib.pyplot as plt\n",
        "import seaborn as sns\n",
        "sns.set()"
      ],
      "execution_count": 1,
      "outputs": [
        {
          "output_type": "stream",
          "text": [
            "/usr/local/lib/python3.6/dist-packages/statsmodels/tools/_testing.py:19: FutureWarning: pandas.util.testing is deprecated. Use the functions in the public API at pandas.testing instead.\n",
            "  import pandas.util.testing as tm\n"
          ],
          "name": "stderr"
        }
      ]
    },
    {
      "cell_type": "code",
      "metadata": {
        "id": "tehC4PMU4n4o",
        "colab_type": "code",
        "colab": {}
      },
      "source": [
        "from sklearn.metrics import r2_score, median_absolute_error, mean_absolute_error, median_absolute_error, mean_squared_error, mean_squared_log_error"
      ],
      "execution_count": 0,
      "outputs": []
    },
    {
      "cell_type": "code",
      "metadata": {
        "id": "u4aMzsRi9c6h",
        "colab_type": "code",
        "colab": {}
      },
      "source": [
        "from  scipy.optimize import minimize\n",
        "import statsmodels.tsa as smt\n",
        "import statsmodels.api as sm\n",
        "\n",
        "from tqdm import tqdm_notebook\n",
        "\n",
        "from itertools import product"
      ],
      "execution_count": 0,
      "outputs": []
    },
    {
      "cell_type": "code",
      "metadata": {
        "id": "J_xQrUZk98B_",
        "colab_type": "code",
        "colab": {}
      },
      "source": [
        "def mean_absolute_percentage_error(y_true, y_pred):\n",
        "  return np.mean(np.abs((y_true - y_pred)/ y_true))*100"
      ],
      "execution_count": 0,
      "outputs": []
    },
    {
      "cell_type": "code",
      "metadata": {
        "id": "aDl10k1Q-KoY",
        "colab_type": "code",
        "colab": {}
      },
      "source": [
        "import warnings\n",
        "warnings.filterwarnings('ignore')"
      ],
      "execution_count": 0,
      "outputs": []
    },
    {
      "cell_type": "code",
      "metadata": {
        "id": "seyKv_mM-RdJ",
        "colab_type": "code",
        "colab": {}
      },
      "source": [
        "%matplotlib inline"
      ],
      "execution_count": 0,
      "outputs": []
    },
    {
      "cell_type": "code",
      "metadata": {
        "id": "8hmrnKMo-TMU",
        "colab_type": "code",
        "colab": {}
      },
      "source": [
        "data=pd.read_csv('TATAPOWER.NS.csv', index_col=['Date'], parse_dates=['Date'])"
      ],
      "execution_count": 0,
      "outputs": []
    },
    {
      "cell_type": "code",
      "metadata": {
        "id": "vvTABnTY-hST",
        "colab_type": "code",
        "colab": {
          "base_uri": "https://localhost:8080/",
          "height": 235
        },
        "outputId": "0612661d-c384-456c-8115-23155fb9f478"
      },
      "source": [
        "data.head()"
      ],
      "execution_count": 10,
      "outputs": [
        {
          "output_type": "execute_result",
          "data": {
            "text/html": [
              "<div>\n",
              "<style scoped>\n",
              "    .dataframe tbody tr th:only-of-type {\n",
              "        vertical-align: middle;\n",
              "    }\n",
              "\n",
              "    .dataframe tbody tr th {\n",
              "        vertical-align: top;\n",
              "    }\n",
              "\n",
              "    .dataframe thead th {\n",
              "        text-align: right;\n",
              "    }\n",
              "</style>\n",
              "<table border=\"1\" class=\"dataframe\">\n",
              "  <thead>\n",
              "    <tr style=\"text-align: right;\">\n",
              "      <th></th>\n",
              "      <th>Open</th>\n",
              "      <th>High</th>\n",
              "      <th>Low</th>\n",
              "      <th>Close</th>\n",
              "      <th>Adj Close</th>\n",
              "      <th>Volume</th>\n",
              "    </tr>\n",
              "    <tr>\n",
              "      <th>Date</th>\n",
              "      <th></th>\n",
              "      <th></th>\n",
              "      <th></th>\n",
              "      <th></th>\n",
              "      <th></th>\n",
              "      <th></th>\n",
              "    </tr>\n",
              "  </thead>\n",
              "  <tbody>\n",
              "    <tr>\n",
              "      <th>2019-06-03</th>\n",
              "      <td>69.000000</td>\n",
              "      <td>69.250000</td>\n",
              "      <td>67.750000</td>\n",
              "      <td>68.349998</td>\n",
              "      <td>65.743179</td>\n",
              "      <td>4792922.0</td>\n",
              "    </tr>\n",
              "    <tr>\n",
              "      <th>2019-06-04</th>\n",
              "      <td>67.500000</td>\n",
              "      <td>68.000000</td>\n",
              "      <td>66.449997</td>\n",
              "      <td>66.699997</td>\n",
              "      <td>65.400002</td>\n",
              "      <td>4864404.0</td>\n",
              "    </tr>\n",
              "    <tr>\n",
              "      <th>2019-06-06</th>\n",
              "      <td>66.750000</td>\n",
              "      <td>66.949997</td>\n",
              "      <td>64.650002</td>\n",
              "      <td>65.099998</td>\n",
              "      <td>65.099998</td>\n",
              "      <td>4982307.0</td>\n",
              "    </tr>\n",
              "    <tr>\n",
              "      <th>2019-06-07</th>\n",
              "      <td>65.000000</td>\n",
              "      <td>66.599998</td>\n",
              "      <td>64.050003</td>\n",
              "      <td>66.300003</td>\n",
              "      <td>66.300003</td>\n",
              "      <td>4984037.0</td>\n",
              "    </tr>\n",
              "    <tr>\n",
              "      <th>2019-06-10</th>\n",
              "      <td>66.650002</td>\n",
              "      <td>67.300003</td>\n",
              "      <td>65.949997</td>\n",
              "      <td>66.550003</td>\n",
              "      <td>66.550003</td>\n",
              "      <td>4586585.0</td>\n",
              "    </tr>\n",
              "  </tbody>\n",
              "</table>\n",
              "</div>"
            ],
            "text/plain": [
              "                 Open       High        Low      Close  Adj Close     Volume\n",
              "Date                                                                        \n",
              "2019-06-03  69.000000  69.250000  67.750000  68.349998  65.743179  4792922.0\n",
              "2019-06-04  67.500000  68.000000  66.449997  66.699997  65.400002  4864404.0\n",
              "2019-06-06  66.750000  66.949997  64.650002  65.099998  65.099998  4982307.0\n",
              "2019-06-07  65.000000  66.599998  64.050003  66.300003  66.300003  4984037.0\n",
              "2019-06-10  66.650002  67.300003  65.949997  66.550003  66.550003  4586585.0"
            ]
          },
          "metadata": {
            "tags": []
          },
          "execution_count": 10
        }
      ]
    },
    {
      "cell_type": "code",
      "metadata": {
        "id": "hHsAmeAu-i3Y",
        "colab_type": "code",
        "colab": {}
      },
      "source": [
        ""
      ],
      "execution_count": 0,
      "outputs": []
    }
  ]
}